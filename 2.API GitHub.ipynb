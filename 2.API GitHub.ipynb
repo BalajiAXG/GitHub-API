{
 "cells": [
  {
   "cell_type": "code",
   "execution_count": 0,
   "metadata": {
    "application/vnd.databricks.v1+cell": {
     "cellMetadata": {
      "byteLimit": 2048000,
      "rowLimit": 10000
     },
     "inputWidgets": {},
     "nuid": "c0425fa2-de31-4d33-a985-6c8338a68194",
     "showTitle": false,
     "title": ""
    }
   },
   "outputs": [
    {
     "output_type": "stream",
     "name": "stdout",
     "output_type": "stream",
     "text": [
      "Requirement already satisfied: pygithub in /local_disk0/.ephemeral_nfs/envs/pythonEnv-5baa9f65-394a-42bb-a26d-c0271f514a58/lib/python3.9/site-packages (2.2.0)\r\nRequirement already satisfied: requests>=2.14.0 in /databricks/python3/lib/python3.9/site-packages (from pygithub) (2.27.1)\r\nRequirement already satisfied: pyjwt[crypto]>=2.4.0 in /local_disk0/.ephemeral_nfs/envs/pythonEnv-5baa9f65-394a-42bb-a26d-c0271f514a58/lib/python3.9/site-packages (from pygithub) (2.8.0)\r\nRequirement already satisfied: Deprecated in /local_disk0/.ephemeral_nfs/envs/pythonEnv-5baa9f65-394a-42bb-a26d-c0271f514a58/lib/python3.9/site-packages (from pygithub) (1.2.14)\r\nRequirement already satisfied: typing-extensions>=4.0.0 in /databricks/python3/lib/python3.9/site-packages (from pygithub) (4.1.1)\r\nRequirement already satisfied: urllib3>=1.26.0 in /databricks/python3/lib/python3.9/site-packages (from pygithub) (1.26.9)\r\nRequirement already satisfied: pynacl>=1.4.0 in /local_disk0/.ephemeral_nfs/envs/pythonEnv-5baa9f65-394a-42bb-a26d-c0271f514a58/lib/python3.9/site-packages (from pygithub) (1.5.0)\r\nRequirement already satisfied: cryptography>=3.4.0 in /databricks/python3/lib/python3.9/site-packages (from pyjwt[crypto]>=2.4.0->pygithub) (3.4.8)\r\nRequirement already satisfied: cffi>=1.12 in /databricks/python3/lib/python3.9/site-packages (from cryptography>=3.4.0->pyjwt[crypto]>=2.4.0->pygithub) (1.15.0)\r\nRequirement already satisfied: pycparser in /databricks/python3/lib/python3.9/site-packages (from cffi>=1.12->cryptography>=3.4.0->pyjwt[crypto]>=2.4.0->pygithub) (2.21)\r\nRequirement already satisfied: idna<4,>=2.5 in /databricks/python3/lib/python3.9/site-packages (from requests>=2.14.0->pygithub) (3.3)\r\nRequirement already satisfied: charset-normalizer~=2.0.0 in /databricks/python3/lib/python3.9/site-packages (from requests>=2.14.0->pygithub) (2.0.4)\r\nRequirement already satisfied: certifi>=2017.4.17 in /databricks/python3/lib/python3.9/site-packages (from requests>=2.14.0->pygithub) (2021.10.8)\r\nRequirement already satisfied: wrapt<2,>=1.10 in /local_disk0/.ephemeral_nfs/envs/pythonEnv-5baa9f65-394a-42bb-a26d-c0271f514a58/lib/python3.9/site-packages (from Deprecated->pygithub) (1.16.0)\r\n\u001B[33mWARNING: You are using pip version 21.2.4; however, version 24.0 is available.\r\nYou should consider upgrading via the '/local_disk0/.ephemeral_nfs/envs/pythonEnv-5baa9f65-394a-42bb-a26d-c0271f514a58/bin/python -m pip install --upgrade pip' command.\u001B[0m\r\n3d-prints\nAdafruit_Blinka\nAdafruit_CircuitPython_Bitmap_Font\nAdafruit_CircuitPython_FancyLED\nAdafruit_CircuitPython_SSD1306\nalaska\napi-samples\nApp-Engine-Flask-Restful-Example\nappengine-24hrsinsf-python\nappengine-angular-seed-python\nappengine-cloudsql-native-mysql-demo-python\nappengine-codelab-maas-python\nappengine-crowdguru-python\nappengine-gofortwilio\nappengine-goplus\nappengine-goshorten\nappengine-helloworld-python\nappengine-nginx-hello\nappengine-nodejs-quickstart\nappengine-overheard-python\nappengine-python-flask-skeleton\nappengine-python-vm-runtime\nappengine-recover-unapplied-writes-python\nappengine-try-python-flask\napsw\nBea\nBea-Collision\nbigquery-getting-started-python\nbilling-export-python\nblog.thea.codes\nbotocore\nCairoSVG\nCastor_and_Pollux\ncertification-mark\nci-diff-helper\ncircuitpython\ncircuitpython-org\ncircuitpython-weekly-newsletter\ncircuitpy_expovert_badge\ncloud-storage-docs-json-api-examples\ncloud-trace-nodejs\ncmarkgfm\ncmarkgfm-wheels\ncompute-appengine-demo-suite-python\ncompute-appengine-timeout-python\ncompute-cassandra-python\ncompute-hadoop-java-python\nconducthotline.com\ncontainer-agent\ncookiecutter-winterbloom-circuitpython\ncpython\ncushychicken.github.io\ndart-pad\nDarth-Vendor\ndco\ndevguide\ndocker-cloud\ndocker-procfile\ndocsbuild-scripts\ndotfiles\nendpoints-management-python\nenhanced-coc-hotline\nfeeder\nflake8-import-order\nflaky\nFreeCAD-render\ngamepadtest\ngax-python\ngcloud-node\ngcloud-node-todos\ngcloud-vs-oauth\ngenesynth\ngetting-started-python\ngfm-markdown-description-example\nghostium\ngoogle-api-php-client\ngoogle-api-python-client\ngoogle-auth-library-nodejs\ngoogle-auth-library-python\ngoogle-cloud-python\ngraviton\ngrpc-common\nindex\ninfluxdbpusher\nInteractiveHtmlBom\nInvenTree\njava-docs-samples\nkicad-libraries\nkicanvas\nLabyrinth\nlibfixmath\nloglady\nlumen-docs\nMarlin\nMarlin-Configurations\nmkdocs\nmodel-m\nnew-project\nNinja-Lib\nnodejs-docker\nnodejs-logging\nnodejs-vision\nnoel\nnoel-example-app\noauth2client\noauth2l\nopencensus-python\nopulo-inc-ohai\noshwa-certification\npackage_control_channel\nPCBWay-Plug-in-for-Kicad\npenny\nPhoenixCore\nphomemo_m02s\nphotos.thea.codes\npico-sdk\npip\npipenv\npowerline-shell\npronouns.thea.codes\nProtopigeon\npycon2018-notebooks\npypa-docs-theme\npypa.io\npython-docs-samples\npython-packaging-user-guide\nqmk_firmware\nreadme_renderer\nscripts\nsetuptools\nShipwright\nsloth\nslurm\nsphinx-docstring-typing\nstorage-acl-setter-python\nstorage-appengine-bucket-lister-python\nstorage-bulk-delete-python\nstorage-getting-started-go\nstorage-getting-started-python\nstorage-metabucket-javascript\nstorage-oauth2-tool-python\nstructy\nthea.codes\ntheacodes\ntox\ntwine\nuf2\nuf2-samdx1\nurllib3\nustreamer\nuwsgi\nvscode-qalc\nwallart\nwarehouse\nwebsite\nwitchhazel\nwitchhazel-sublime\nwren\nwtri\nym2612dev\n"
     ]
    }
   ],
   "source": [
    "!pip install pygithub\n",
    "\n",
    "from github import Github\n",
    "\n",
    "# Replace 'YOUR_ACCESS_TOKEN' with your actual GitHub personal access token\n",
    "access_token = ''\n",
    "\n",
    "# Instantiate the Github object\n",
    "github = Github(access_token)\n",
    "\n",
    "# Specify the username of the user whose repositories you want to access\n",
    "username = 'theacodes'\n",
    "\n",
    "# Get the specified user's repositories\n",
    "user = github.get_user(username)\n",
    "\n",
    "for repo in user.get_repos():\n",
    "    print(repo.name)"
   ]
  }
 ],
 "metadata": {
  "application/vnd.databricks.v1+notebook": {
   "dashboards": [],
   "language": "python",
   "notebookMetadata": {
    "pythonIndentUnit": 4
   },
   "notebookName": "2.API GitHub",
   "widgets": {}
  }
 },
 "nbformat": 4,
 "nbformat_minor": 0
}
